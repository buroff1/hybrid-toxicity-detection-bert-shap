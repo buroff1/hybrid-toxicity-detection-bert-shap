{
 "cells": [
  {
   "cell_type": "code",
   "id": "initial_id",
   "metadata": {
    "collapsed": true,
    "ExecuteTime": {
     "end_time": "2025-07-06T19:20:24.929018Z",
     "start_time": "2025-07-06T19:20:19.975605Z"
    }
   },
   "source": [
    "import pandas as pd\n",
    "import torch\n",
    "from torch.utils.data import Dataset, DataLoader\n",
    "from transformers import (\n",
    "    BertTokenizerFast, BertForTokenClassification,\n",
    "    get_linear_schedule_with_warmup\n",
    ")\n",
    "from torch.optim import AdamW\n",
    "from sklearn.metrics import precision_recall_fscore_support, classification_report\n",
    "from tqdm.auto import tqdm\n",
    "import os\n",
    "import ast\n"
   ],
   "outputs": [],
   "execution_count": 1
  },
  {
   "metadata": {
    "ExecuteTime": {
     "end_time": "2025-07-06T19:20:24.962302Z",
     "start_time": "2025-07-06T19:20:24.929345Z"
    }
   },
   "cell_type": "code",
   "source": [
    "device = torch.device(\"cuda\" if torch.cuda.is_available() else \"cpu\")\n",
    "print(\"CUDA available:\", torch.cuda.is_available())\n",
    "if torch.cuda.is_available():\n",
    "    print(\"GPU:\", torch.cuda.get_device_name(0))\n",
    "else:\n",
    "    print(\"Using CPU\")\n",
    "\n",
    "def log(msg, path=\"../outputs/logs/train_token_log.txt\"):\n",
    "    os.makedirs(os.path.dirname(path), exist_ok=True)\n",
    "    with open(path, \"a\") as f:\n",
    "        f.write(msg + \"\\n\")\n"
   ],
   "id": "9dac287d3e7ba535",
   "outputs": [
    {
     "name": "stdout",
     "output_type": "stream",
     "text": [
      "🔧 CUDA available: True\n",
      "🚀 GPU: NVIDIA GeForce RTX 3060 Ti\n"
     ]
    }
   ],
   "execution_count": 2
  },
  {
   "metadata": {
    "ExecuteTime": {
     "end_time": "2025-07-06T19:20:26.458300Z",
     "start_time": "2025-07-06T19:20:24.962880Z"
    }
   },
   "cell_type": "code",
   "source": [
    "# Load Toxic Spans (character-level) dataset from CSV\n",
    "df = pd.read_csv(\"../data/toxic_spans.csv\")\n",
    "df[\"position\"] = df[\"position\"].apply(ast.literal_eval)\n",
    "# Keep only text and span columns; rename text column to 'text' for convenience.\n",
    "df = df[[\"text_of_post\", \"position\"]].rename(columns={\"text_of_post\": \"text\"})\n",
    "\n",
    "# Drop rows with missing values; reset index for clean iteration.\n",
    "df = df.dropna().reset_index(drop=True)\n",
    "print(\"Loaded dataset:\", df.shape)\n",
    "\n",
    "# Hugging Face fast tokenizer to get offset mappings for character-token alignment.\n",
    "tokenizer = BertTokenizerFast.from_pretrained(\"bert-base-cased\")\n"
   ],
   "id": "b5df847b2e91b2cf",
   "outputs": [
    {
     "name": "stdout",
     "output_type": "stream",
     "text": [
      "✅ Loaded dataset: (11006, 2)\n"
     ]
    },
    {
     "name": "stderr",
     "output_type": "stream",
     "text": [
      "D:\\New_Desktop\\all stuff\\ue\\thesis-toxic\\.venv\\lib\\site-packages\\huggingface_hub\\file_download.py:943: FutureWarning: `resume_download` is deprecated and will be removed in version 1.0.0. Downloads always resume when possible. If you want to force a new download, use `force_download=True`.\n",
      "  warnings.warn(\n"
     ]
    }
   ],
   "execution_count": 3
  },
  {
   "metadata": {
    "ExecuteTime": {
     "end_time": "2025-07-06T19:20:26.462965Z",
     "start_time": "2025-07-06T19:20:26.458626Z"
    }
   },
   "cell_type": "code",
   "source": [
    "def encode_and_align_labels(texts, spans, tokenizer, max_len=128):\n",
    "    tokenized = tokenizer(\n",
    "        texts,\n",
    "        return_offsets_mapping=True,\n",
    "        padding=\"max_length\",\n",
    "        truncation=True,\n",
    "        max_length=max_len,\n",
    "        return_tensors=\"pt\",\n",
    "    )\n",
    "    labels = []\n",
    "    for i, offsets in enumerate(tokenized[\"offset_mapping\"]):\n",
    "        span = set(spans[i])    # gold characters for this sample\n",
    "        label = []\n",
    "        for start, end in offsets:\n",
    "            if start == end:\n",
    "                label.append(-100)\n",
    "            else:\n",
    "                token_span = set(range(start, end))\n",
    "                label.append(1 if token_span & span else 0)\n",
    "        labels.append(label)\n",
    "    tokenized[\"labels\"] = torch.tensor(labels)\n",
    "    return tokenized\n"
   ],
   "id": "43511822370cc70b",
   "outputs": [],
   "execution_count": 4
  },
  {
   "metadata": {
    "ExecuteTime": {
     "end_time": "2025-07-06T19:20:26.475047Z",
     "start_time": "2025-07-06T19:20:26.464152Z"
    }
   },
   "cell_type": "code",
   "source": [
    "class ToxicSpanDataset(Dataset):\n",
    "    def __init__(self, df, tokenizer, max_len=128):\n",
    "        self.texts = df[\"text\"].tolist()\n",
    "        self.spans = df[\"position\"].tolist()\n",
    "        self.tokenizer = tokenizer\n",
    "        self.max_len = max_len\n",
    "\n",
    "    def __len__(self):\n",
    "        return len(self.texts)\n",
    "\n",
    "    def __getitem__(self, idx):\n",
    "        encoded = encode_and_align_labels(\n",
    "            [self.texts[idx]], [self.spans[idx]], self.tokenizer, self.max_len\n",
    "        )\n",
    "        return {\n",
    "            \"input_ids\": encoded[\"input_ids\"].squeeze(0),\n",
    "            \"attention_mask\": encoded[\"attention_mask\"].squeeze(0),\n",
    "            \"labels\": encoded[\"labels\"].squeeze(0),\n",
    "        }\n"
   ],
   "id": "a1d4ff9c4034a75",
   "outputs": [],
   "execution_count": 5
  },
  {
   "metadata": {
    "ExecuteTime": {
     "end_time": "2025-07-06T19:20:26.550095Z",
     "start_time": "2025-07-06T19:20:26.475444Z"
    }
   },
   "cell_type": "code",
   "source": [
    "# Train/val/test split\n",
    "train_df = df.sample(frac=0.8, random_state=42)\n",
    "temp_df = df.drop(train_df.index)\n",
    "val_df = temp_df.sample(frac=0.5, random_state=42)\n",
    "test_df = temp_df.drop(val_df.index)\n",
    "\n",
    "# Build datasets and dataloaders.\n",
    "train_dataset = ToxicSpanDataset(train_df, tokenizer)\n",
    "val_dataset = ToxicSpanDataset(val_df, tokenizer)\n",
    "test_dataset = ToxicSpanDataset(test_df, tokenizer)\n",
    "\n",
    "train_loader = DataLoader(train_dataset, batch_size=8, shuffle=True)\n",
    "val_loader = DataLoader(val_dataset, batch_size=8)\n",
    "test_loader = DataLoader(test_dataset, batch_size=8)\n"
   ],
   "id": "3edfdc29cdc3707c",
   "outputs": [],
   "execution_count": 6
  },
  {
   "metadata": {
    "ExecuteTime": {
     "end_time": "2025-07-06T19:20:28.717003Z",
     "start_time": "2025-07-06T19:20:26.551819Z"
    }
   },
   "cell_type": "code",
   "source": [
    "# Token classification head on top of BERT base cased\n",
    "model = BertForTokenClassification.from_pretrained(\"bert-base-cased\", num_labels=2)\n",
    "model.to(device)\n",
    "\n",
    "# Optimizer/scheduler config\n",
    "optimizer = AdamW(model.parameters(), lr=2e-5)\n",
    "num_epochs = 3\n",
    "num_training_steps = num_epochs * len(train_loader)\n",
    "\n",
    "lr_scheduler = get_linear_schedule_with_warmup(\n",
    "    optimizer,\n",
    "    num_warmup_steps=int(0.1 * num_training_steps),\n",
    "    num_training_steps=num_training_steps\n",
    ")\n",
    "\n",
    "# Mixed precision training utilities\n",
    "from torch.cuda.amp import autocast, GradScaler\n",
    "scaler = GradScaler()\n",
    "best_f1 = 0.0\n"
   ],
   "id": "7f125d24ff41721f",
   "outputs": [
    {
     "name": "stderr",
     "output_type": "stream",
     "text": [
      "Some weights of BertForTokenClassification were not initialized from the model checkpoint at bert-base-cased and are newly initialized: ['classifier.bias', 'classifier.weight']\n",
      "You should probably TRAIN this model on a down-stream task to be able to use it for predictions and inference.\n",
      "C:\\Users\\burar\\AppData\\Local\\Temp\\ipykernel_20200\\765152324.py:15: FutureWarning: `torch.cuda.amp.GradScaler(args...)` is deprecated. Please use `torch.amp.GradScaler('cuda', args...)` instead.\n",
      "  scaler = GradScaler()\n"
     ]
    }
   ],
   "execution_count": 7
  },
  {
   "metadata": {
    "ExecuteTime": {
     "end_time": "2025-07-06T19:50:43.083012Z",
     "start_time": "2025-07-06T19:28:32.792878Z"
    }
   },
   "cell_type": "code",
   "source": [
    "# Training loop with token-level metrics computed for the train split\n",
    "for epoch in range(num_epochs):\n",
    "    model.train()\n",
    "    total_loss = 0\n",
    "    preds_all, labels_all = [], []\n",
    "\n",
    "    for batch in tqdm(train_loader, desc=f\"🔁 Epoch {epoch + 1}\"):\n",
    "        batch = {k: v.to(device) for k, v in batch.items()}\n",
    "        with autocast():\n",
    "            outputs = model(**batch)\n",
    "            loss = outputs.loss\n",
    "\n",
    "        # Standard AMP + gradient clipping + scheduler step\n",
    "        scaler.scale(loss).backward()\n",
    "        scaler.unscale_(optimizer)\n",
    "        torch.nn.utils.clip_grad_norm_(model.parameters(), 1.0)\n",
    "        scaler.step(optimizer)\n",
    "        lr_scheduler.step()\n",
    "        scaler.update()\n",
    "        optimizer.zero_grad()\n",
    "\n",
    "        total_loss += loss.item()\n",
    "\n",
    "        # Collect token-level predictions/labels for train metrics\n",
    "        logits = outputs.logits.argmax(dim=-1).detach().cpu().numpy()\n",
    "        labels = batch[\"labels\"].detach().cpu().numpy()\n",
    "        mask = labels != -100\n",
    "        for p, l, m in zip(logits, labels, mask):\n",
    "            preds_all.extend(p[m])\n",
    "            labels_all.extend(l[m])\n",
    "\n",
    "    avg_loss = total_loss / len(train_loader)\n",
    "    prec, rec, f1, _ = precision_recall_fscore_support(labels_all, preds_all, average=\"binary\", zero_division=0)\n",
    "\n",
    "    msg = (\n",
    "        f\"Epoch {epoch + 1} - Train Loss: {avg_loss:.4f} | \"\n",
    "        f\"Precision: {prec:.4f} | Recall: {rec:.4f} | F1: {f1:.4f}\"\n",
    "    )\n",
    "    print(msg)\n",
    "    log(msg)\n",
    "\n",
    "    # Save per-epoch checkpoint + track best by train F1\n",
    "    os.makedirs(\"../outputs/model\", exist_ok=True)\n",
    "    ckpt_path = f\"../outputs/model/token_classifier_epoch{epoch + 1}.pt\"\n",
    "    torch.save(model.state_dict(), ckpt_path)\n",
    "    log(f\"Saved: {ckpt_path}\")\n",
    "\n",
    "    if f1 > best_f1:\n",
    "        best_f1 = f1\n",
    "        torch.save(model.state_dict(), \"../outputs/model/bert_token_classifier.pt\")\n",
    "        log(f\"Best model updated at epoch {epoch + 1} with F1: {f1:.4f}\")\n"
   ],
   "id": "cd6edf6c32bc8b4b",
   "outputs": [
    {
     "data": {
      "text/plain": [
       "🔁 Epoch 1:   0%|          | 0/1101 [00:00<?, ?it/s]"
      ],
      "application/vnd.jupyter.widget-view+json": {
       "version_major": 2,
       "version_minor": 0,
       "model_id": "702f735290404ab3aa38fb8ee071c5ba"
      }
     },
     "metadata": {},
     "output_type": "display_data"
    },
    {
     "name": "stderr",
     "output_type": "stream",
     "text": [
      "C:\\Users\\burar\\AppData\\Local\\Temp\\ipykernel_20200\\1404868844.py:8: FutureWarning: `torch.cuda.amp.autocast(args...)` is deprecated. Please use `torch.amp.autocast('cuda', args...)` instead.\n",
      "  with autocast():\n"
     ]
    },
    {
     "name": "stdout",
     "output_type": "stream",
     "text": [
      "📉 Epoch 1 - Train Loss: 0.0618 | Precision: 0.6338 | Recall: 0.3619 | F1: 0.4607\n"
     ]
    },
    {
     "data": {
      "text/plain": [
       "🔁 Epoch 2:   0%|          | 0/1101 [00:00<?, ?it/s]"
      ],
      "application/vnd.jupyter.widget-view+json": {
       "version_major": 2,
       "version_minor": 0,
       "model_id": "57c7d512732a4abdb6c25ba608384d4e"
      }
     },
     "metadata": {},
     "output_type": "display_data"
    },
    {
     "name": "stderr",
     "output_type": "stream",
     "text": [
      "C:\\Users\\burar\\AppData\\Local\\Temp\\ipykernel_20200\\1404868844.py:8: FutureWarning: `torch.cuda.amp.autocast(args...)` is deprecated. Please use `torch.amp.autocast('cuda', args...)` instead.\n",
      "  with autocast():\n"
     ]
    },
    {
     "name": "stdout",
     "output_type": "stream",
     "text": [
      "📉 Epoch 2 - Train Loss: 0.0429 | Precision: 0.6724 | Recall: 0.5457 | F1: 0.6025\n"
     ]
    },
    {
     "data": {
      "text/plain": [
       "🔁 Epoch 3:   0%|          | 0/1101 [00:00<?, ?it/s]"
      ],
      "application/vnd.jupyter.widget-view+json": {
       "version_major": 2,
       "version_minor": 0,
       "model_id": "3af795767083485aa6c1edc7e7a01cf6"
      }
     },
     "metadata": {},
     "output_type": "display_data"
    },
    {
     "name": "stderr",
     "output_type": "stream",
     "text": [
      "C:\\Users\\burar\\AppData\\Local\\Temp\\ipykernel_20200\\1404868844.py:8: FutureWarning: `torch.cuda.amp.autocast(args...)` is deprecated. Please use `torch.amp.autocast('cuda', args...)` instead.\n",
      "  with autocast():\n"
     ]
    },
    {
     "name": "stdout",
     "output_type": "stream",
     "text": [
      "📉 Epoch 3 - Train Loss: 0.0316 | Precision: 0.7215 | Recall: 0.6924 | F1: 0.7067\n"
     ]
    }
   ],
   "execution_count": 9
  },
  {
   "metadata": {
    "ExecuteTime": {
     "end_time": "2025-07-06T19:50:47.403309Z",
     "start_time": "2025-07-06T19:50:43.083012Z"
    }
   },
   "cell_type": "code",
   "source": [
    "# Test-time evaluation (token-level)\n",
    "model.eval()\n",
    "test_preds, test_labels = [], []\n",
    "with torch.no_grad():\n",
    "    for batch in test_loader:\n",
    "        batch = {k: v.to(device) for k, v in batch.items()}\n",
    "        outputs = model(**batch)\n",
    "        logits = outputs.logits.argmax(dim=-1).cpu().numpy()\n",
    "        labels = batch[\"labels\"].cpu().numpy()\n",
    "        mask = labels != -100\n",
    "        for p, l, m in zip(logits, labels, mask):\n",
    "            test_preds.extend(p[m])\n",
    "            test_labels.extend(l[m])\n",
    "\n",
    "# Compute token-level precision/recall/F1 for the positive class (label=1) over all tokens.\n",
    "prec, rec, f1, _ = precision_recall_fscore_support(test_labels, test_preds, average=\"binary\", zero_division=0)\n",
    "\n",
    "test_msg = (\n",
    "    \"\\nTEST SET RESULTS\\n\"\n",
    "    f\"Precision: {prec:.4f}\\n\"\n",
    "    f\"Recall:    {rec:.4f}\\n\"\n",
    "    f\"F1 Score:  {f1:.4f}\\n\\n\"\n",
    "    \"Classification Report:\\n\"\n",
    "    f\"{classification_report(test_labels, test_preds, digits=4)}\"\n",
    ")\n",
    "\n",
    "print(test_msg)\n",
    "log(test_msg)\n"
   ],
   "id": "b1b37381442551b",
   "outputs": [
    {
     "name": "stdout",
     "output_type": "stream",
     "text": [
      "\n",
      "🎯 TEST SET RESULTS\n",
      "📌 Precision: 0.5560\n",
      "📌 Recall:    0.6014\n",
      "📌 F1 Score:  0.5778\n",
      "\n",
      "📋 Classification Report:\n",
      "              precision    recall  f1-score   support\n",
      "\n",
      "           0     0.9896    0.9875    0.9886     48085\n",
      "           1     0.5560    0.6014    0.5778      1247\n",
      "\n",
      "    accuracy                         0.9778     49332\n",
      "   macro avg     0.7728    0.7945    0.7832     49332\n",
      "weighted avg     0.9787    0.9778    0.9782     49332\n",
      "\n"
     ]
    }
   ],
   "execution_count": 10
  }
 ],
 "metadata": {
  "kernelspec": {
   "display_name": "Python 3.9 (thesis-toxic)",
   "language": "python",
   "name": "thesis-toxic"
  },
  "language_info": {
   "codemirror_mode": {
    "name": "ipython",
    "version": 2
   },
   "file_extension": ".py",
   "mimetype": "text/x-python",
   "name": "python",
   "nbconvert_exporter": "python",
   "pygments_lexer": "ipython2",
   "version": "2.7.6"
  }
 },
 "nbformat": 4,
 "nbformat_minor": 5
}
