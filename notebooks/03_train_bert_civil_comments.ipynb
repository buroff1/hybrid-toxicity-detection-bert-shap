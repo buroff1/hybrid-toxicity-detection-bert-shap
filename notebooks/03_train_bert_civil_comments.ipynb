{
 "cells": [
  {
   "cell_type": "code",
   "id": "initial_id",
   "metadata": {
    "collapsed": true,
    "ExecuteTime": {
     "end_time": "2025-07-20T16:27:56.998231Z",
     "start_time": "2025-07-20T16:27:22.078654Z"
    }
   },
   "source": [
    "import pandas as pd\n",
    "import torch\n",
    "from torch.utils.data import Dataset, DataLoader\n",
    "from transformers import (\n",
    "    BertTokenizerFast, BertForSequenceClassification,\n",
    "    AdamW, get_linear_schedule_with_warmup\n",
    ")\n",
    "from sklearn.metrics import accuracy_score, f1_score, classification_report, roc_auc_score\n",
    "from tqdm.auto import tqdm\n",
    "import os\n",
    "\n",
    "# Select CUDA if available, otherwise CPU\n",
    "device = torch.device(\"cuda\" if torch.cuda.is_available() else \"cpu\")\n",
    "print(\"CUDA available:\", torch.cuda.is_available())\n",
    "if torch.cuda.is_available():\n",
    "    print(\"GPU:\", torch.cuda.get_device_name(0))\n",
    "else:\n",
    "    print(\"Using CPU\")\n"
   ],
   "outputs": [
    {
     "name": "stdout",
     "output_type": "stream",
     "text": [
      "🔧 CUDA available: True\n",
      "🚀 GPU: NVIDIA GeForce RTX 3060 Ti\n"
     ]
    }
   ],
   "execution_count": 2
  },
  {
   "metadata": {
    "ExecuteTime": {
     "end_time": "2025-07-20T16:29:06.084210Z",
     "start_time": "2025-07-20T16:28:59.542574Z"
    }
   },
   "cell_type": "code",
   "source": [
    "# Load the pre-split CSVs created in Notebook 02 (80/10/10 split with stratification)\n",
    "train_df = pd.read_csv(\"../outputs/civil_comments/train.csv\")\n",
    "val_df = pd.read_csv(\"../outputs/civil_comments/val.csv\")\n",
    "test_df = pd.read_csv(\"../outputs/civil_comments/test.csv\")\n",
    "# Ensure all texts are strings to avoid tokenizer ValueError\n",
    "train_df[\"text\"] = train_df[\"text\"].astype(str)\n",
    "val_df[\"text\"] = val_df[\"text\"].astype(str)\n",
    "test_df[\"text\"] = test_df[\"text\"].astype(str)\n",
    "\n",
    "# Remove empty or whitespace-only rows\n",
    "train_df = train_df[train_df[\"text\"].str.strip().astype(bool)]\n",
    "val_df = val_df[val_df[\"text\"].str.strip().astype(bool)]\n",
    "test_df = test_df[test_df[\"text\"].str.strip().astype(bool)]\n",
    "\n",
    "print(\"Train:\", train_df.shape, \"Val:\", val_df.shape, \"Test:\", test_df.shape)\n"
   ],
   "id": "a9aeb6c3db681bf6",
   "outputs": [
    {
     "name": "stdout",
     "output_type": "stream",
     "text": [
      "Train: (1443899, 2) Val: (180487, 2) Test: (180488, 2)\n"
     ]
    }
   ],
   "execution_count": 4
  },
  {
   "metadata": {
    "ExecuteTime": {
     "end_time": "2025-07-20T16:29:08.369234Z",
     "start_time": "2025-07-20T16:29:08.045614Z"
    }
   },
   "cell_type": "code",
   "source": [
    "# Load BERT tokenizer (cased version) for consistent tokenization\n",
    "tokenizer = BertTokenizerFast.from_pretrained(\"bert-base-cased\")\n",
    "\n",
    "class ToxicDataset(Dataset):\n",
    "    def __init__(self, df, tokenizer, max_len=128):\n",
    "        self.texts = df[\"text\"].tolist()\n",
    "        self.labels = df[\"label\"].tolist()\n",
    "        self.tokenizer = tokenizer\n",
    "        self.max_len = max_len\n",
    "\n",
    "    def __len__(self):\n",
    "        return len(self.texts)\n",
    "\n",
    "    def __getitem__(self, idx):\n",
    "        enc = self.tokenizer(\n",
    "            self.texts[idx],\n",
    "            truncation=True,\n",
    "            padding=\"max_length\",\n",
    "            max_length=self.max_len,\n",
    "            return_tensors=\"pt\"\n",
    "        )\n",
    "        return {\n",
    "            \"input_ids\": enc[\"input_ids\"].squeeze(0),\n",
    "            \"attention_mask\": enc[\"attention_mask\"].squeeze(0),\n",
    "            \"label\": torch.tensor(self.labels[idx], dtype=torch.long)\n",
    "        }\n",
    "# Build train/val datasets from the preprocessed splits\n",
    "train_dataset = ToxicDataset(train_df, tokenizer)\n",
    "val_dataset = ToxicDataset(val_df, tokenizer)\n"
   ],
   "id": "e4f562bb3297c089",
   "outputs": [
    {
     "name": "stderr",
     "output_type": "stream",
     "text": [
      "D:\\New_Desktop\\all stuff\\ue\\thesis-toxic\\.venv\\lib\\site-packages\\huggingface_hub\\file_download.py:943: FutureWarning: `resume_download` is deprecated and will be removed in version 1.0.0. Downloads always resume when possible. If you want to force a new download, use `force_download=True`.\n",
      "  warnings.warn(\n"
     ]
    }
   ],
   "execution_count": 5
  },
  {
   "metadata": {
    "ExecuteTime": {
     "end_time": "2025-07-20T16:29:16.140535Z",
     "start_time": "2025-07-20T16:29:12.664767Z"
    }
   },
   "cell_type": "code",
   "source": [
    "# Initialize BERT sequence classifier (binary)\n",
    "model = BertForSequenceClassification.from_pretrained(\"bert-base-cased\", num_labels=2)\n",
    "model.to(device)\n",
    "\n",
    "train_loader = DataLoader(train_dataset, batch_size=16, shuffle=True)\n",
    "val_loader = DataLoader(val_dataset, batch_size=16)\n",
    "\n",
    "# Optimizer + LR schedule (linear warmup + decay)\n",
    "optimizer = AdamW(model.parameters(), lr=2e-5)\n",
    "num_epochs = 3\n",
    "num_training_steps = num_epochs * len(train_loader)\n",
    "\n",
    "lr_scheduler = get_linear_schedule_with_warmup(\n",
    "    optimizer,\n",
    "    num_warmup_steps=int(0.1 * num_training_steps),\n",
    "    num_training_steps=num_training_steps\n",
    ")\n"
   ],
   "id": "943d8cb73b7ed741",
   "outputs": [
    {
     "name": "stderr",
     "output_type": "stream",
     "text": [
      "D:\\New_Desktop\\all stuff\\ue\\thesis-toxic\\.venv\\lib\\site-packages\\huggingface_hub\\file_download.py:943: FutureWarning: `resume_download` is deprecated and will be removed in version 1.0.0. Downloads always resume when possible. If you want to force a new download, use `force_download=True`.\n",
      "  warnings.warn(\n",
      "Some weights of BertForSequenceClassification were not initialized from the model checkpoint at bert-base-cased and are newly initialized: ['classifier.bias', 'classifier.weight']\n",
      "You should probably TRAIN this model on a down-stream task to be able to use it for predictions and inference.\n",
      "D:\\New_Desktop\\all stuff\\ue\\thesis-toxic\\.venv\\lib\\site-packages\\transformers\\optimization.py:521: FutureWarning: This implementation of AdamW is deprecated and will be removed in a future version. Use the PyTorch implementation torch.optim.AdamW instead, or set `no_deprecation_warning=True` to disable this warning\n",
      "  warnings.warn(\n"
     ]
    }
   ],
   "execution_count": 6
  },
  {
   "metadata": {
    "ExecuteTime": {
     "end_time": "2025-07-07T17:36:46.652152Z",
     "start_time": "2025-07-07T09:32:11.702197Z"
    }
   },
   "cell_type": "code",
   "source": [
    "# AMP for faster training on GPU\n",
    "from torch.cuda.amp import autocast, GradScaler\n",
    "\n",
    "scaler = GradScaler()\n",
    "best_f1 = 0.0\n",
    "\n",
    "def log(msg, path=\"../outputs/logs/training_log.txt\"):\n",
    "    os.makedirs(os.path.dirname(path), exist_ok=True)\n",
    "    with open(path, \"a\") as f:\n",
    "        f.write(msg + \"\\n\")\n",
    "\n",
    "# Training loop\n",
    "for epoch in range(num_epochs):\n",
    "    model.train()\n",
    "    total_loss = 0\n",
    "\n",
    "    for batch in tqdm(train_loader, desc=f\"Epoch {epoch+1}\"):\n",
    "        # Move batch to device and rename 'label' to 'labels' for HF model API\n",
    "        batch = {k: v.to(device) for k, v in batch.items()}\n",
    "        batch[\"labels\"] = batch.pop(\"label\")\n",
    "\n",
    "        with autocast():\n",
    "            outputs = model(**batch)\n",
    "            loss = outputs.loss\n",
    "\n",
    "        # Backprop with gradient scaling, clip, step, schedule\n",
    "        scaler.scale(loss).backward()\n",
    "        scaler.unscale_(optimizer)\n",
    "        torch.nn.utils.clip_grad_norm_(model.parameters(), 1.0)\n",
    "        scaler.step(optimizer)\n",
    "        lr_scheduler.step()\n",
    "        scaler.update()\n",
    "        optimizer.zero_grad()\n",
    "\n",
    "\n",
    "        total_loss += loss.item()\n",
    "\n",
    "    avg_loss = total_loss / len(train_loader)\n",
    "\n",
    "    # Validation\n",
    "    model.eval()\n",
    "    all_preds, all_labels = [], []\n",
    "    with torch.no_grad():\n",
    "        for batch in val_loader:\n",
    "            batch = {k: v.to(device) for k, v in batch.items()}\n",
    "            batch[\"labels\"] = batch.pop(\"label\")\n",
    "\n",
    "            outputs = model(**batch)\n",
    "            preds = outputs.logits.argmax(dim=1).cpu().numpy()\n",
    "            labels = batch[\"labels\"].cpu().numpy()\n",
    "\n",
    "            all_preds.extend(preds)\n",
    "            all_labels.extend(labels)\n",
    "\n",
    "    # Accuracy and F1 on validation split\n",
    "    acc = accuracy_score(all_labels, all_preds)\n",
    "    f1 = f1_score(all_labels, all_preds)\n",
    "\n",
    "    msg = f\"Epoch {epoch+1} - Train Loss: {avg_loss:.4f} | Val Acc: {acc:.4f} | F1: {f1:.4f}\"\n",
    "    print(msg)\n",
    "    log(msg)\n",
    "\n",
    "    # Save best model by validation F1\n",
    "    if f1 > best_f1:\n",
    "        best_f1 = f1\n",
    "        os.makedirs(\"../outputs/model\", exist_ok=True)\n",
    "        torch.save(model.state_dict(), \"../outputs/model/bert_toxic_classifier.pt\")\n",
    "        save_msg = f\"Best model saved at epoch {epoch+1} with F1: {f1:.4f}\"\n",
    "        print(save_msg)\n",
    "        log(save_msg)\n"
   ],
   "id": "98257b6aa04b7aaf",
   "outputs": [
    {
     "name": "stderr",
     "output_type": "stream",
     "text": [
      "C:\\Users\\burar\\AppData\\Local\\Temp\\ipykernel_2480\\935647264.py:3: FutureWarning: `torch.cuda.amp.GradScaler(args...)` is deprecated. Please use `torch.amp.GradScaler('cuda', args...)` instead.\n",
      "  scaler = GradScaler()\n"
     ]
    },
    {
     "data": {
      "text/plain": [
       "Epoch 1:   0%|          | 0/90244 [00:00<?, ?it/s]"
      ],
      "application/vnd.jupyter.widget-view+json": {
       "version_major": 2,
       "version_minor": 0,
       "model_id": "5929475abfe1494091a7170afb1f770e"
      }
     },
     "metadata": {},
     "output_type": "display_data"
    },
    {
     "name": "stderr",
     "output_type": "stream",
     "text": [
      "C:\\Users\\burar\\AppData\\Local\\Temp\\ipykernel_2480\\935647264.py:19: FutureWarning: `torch.cuda.amp.autocast(args...)` is deprecated. Please use `torch.amp.autocast('cuda', args...)` instead.\n",
      "  with autocast():\n"
     ]
    },
    {
     "name": "stdout",
     "output_type": "stream",
     "text": [
      "Epoch 1 - Train Loss: 0.1669 | Val Acc: 0.9431 | F1: 0.6279\n",
      "💾 Best model saved at epoch 1 with F1: 0.6279\n"
     ]
    },
    {
     "data": {
      "text/plain": [
       "Epoch 2:   0%|          | 0/90244 [00:00<?, ?it/s]"
      ],
      "application/vnd.jupyter.widget-view+json": {
       "version_major": 2,
       "version_minor": 0,
       "model_id": "786dc9ede7c3451ea7462d7b06415fb6"
      }
     },
     "metadata": {},
     "output_type": "display_data"
    },
    {
     "name": "stderr",
     "output_type": "stream",
     "text": [
      "C:\\Users\\burar\\AppData\\Local\\Temp\\ipykernel_2480\\935647264.py:19: FutureWarning: `torch.cuda.amp.autocast(args...)` is deprecated. Please use `torch.amp.autocast('cuda', args...)` instead.\n",
      "  with autocast():\n"
     ]
    },
    {
     "name": "stdout",
     "output_type": "stream",
     "text": [
      "Epoch 2 - Train Loss: 0.1560 | Val Acc: 0.9517 | F1: 0.6541\n",
      "💾 Best model saved at epoch 2 with F1: 0.6541\n"
     ]
    },
    {
     "data": {
      "text/plain": [
       "Epoch 3:   0%|          | 0/90244 [00:00<?, ?it/s]"
      ],
      "application/vnd.jupyter.widget-view+json": {
       "version_major": 2,
       "version_minor": 0,
       "model_id": "5c9074efb8594a08af15525304f132fc"
      }
     },
     "metadata": {},
     "output_type": "display_data"
    },
    {
     "name": "stderr",
     "output_type": "stream",
     "text": [
      "C:\\Users\\burar\\AppData\\Local\\Temp\\ipykernel_2480\\935647264.py:19: FutureWarning: `torch.cuda.amp.autocast(args...)` is deprecated. Please use `torch.amp.autocast('cuda', args...)` instead.\n",
      "  with autocast():\n"
     ]
    },
    {
     "name": "stdout",
     "output_type": "stream",
     "text": [
      "Epoch 3 - Train Loss: 0.1378 | Val Acc: 0.9518 | F1: 0.6631\n",
      "💾 Best model saved at epoch 3 with F1: 0.6631\n"
     ]
    }
   ],
   "execution_count": 5
  },
  {
   "metadata": {
    "ExecuteTime": {
     "end_time": "2025-07-20T16:30:08.530506Z",
     "start_time": "2025-07-20T16:30:08.498917Z"
    }
   },
   "cell_type": "code",
   "source": [
    "print(\"Evaluating on test set...\")\n",
    "\n",
    "# Build test dataset/loader from the held-out split\n",
    "test_dataset = ToxicDataset(test_df, tokenizer)\n",
    "test_loader = DataLoader(test_dataset, batch_size=16)\n",
    "\n",
    "model.eval()\n",
    "\n",
    "# Collect hard labels (preds), ground-truth labels, and probabilities for ROC–AUC\n",
    "test_preds, test_labels, test_probs = [], [], []\n",
    "\n",
    "with torch.no_grad():\n",
    "    for batch in test_loader:\n",
    "        batch = {k: v.to(device) for k, v in batch.items()}\n",
    "        labels = batch.pop(\"label\")\n",
    "        outputs = model(**batch)\n",
    "        logits = outputs.logits\n",
    "        preds = logits.argmax(dim=1).cpu().numpy()\n",
    "        probs = torch.softmax(logits, dim=1)[:, 1].cpu().numpy()\n",
    "\n",
    "        test_preds.extend(preds)\n",
    "        test_labels.extend(labels.cpu().numpy())\n",
    "        test_probs.extend(probs)\n",
    "\n",
    "# Compute metrics\n",
    "test_acc = accuracy_score(test_labels, test_preds)\n",
    "test_f1 = f1_score(test_labels, test_preds)\n",
    "test_roc_auc = roc_auc_score(test_labels, test_probs)\n",
    "\n",
    "test_acc_msg = f\"Test Accuracy: {test_acc:.4f}\"\n",
    "test_f1_msg = f\"Test F1 Score: {test_f1:.4f}\"\n",
    "test_roc_auc_msg = f\"Test ROC AUC Score: {test_roc_auc:.4f}\"\n",
    "report_msg = classification_report(test_labels, test_preds, digits=4)\n",
    "\n",
    "print(test_acc_msg)\n",
    "print(test_f1_msg)\n",
    "print(test_roc_auc_msg)\n",
    "print(\"\\nClassification Report:\\n\")\n",
    "print(report_msg)\n",
    "\n",
    "log(test_acc_msg)\n",
    "log(test_f1_msg)\n",
    "log(test_roc_auc_msg)\n",
    "log(\"\\nClassification Report:\\n\" + report_msg)\n",
    "log(\"-\" * 60)"
   ],
   "id": "c138e1cd73ff46bd",
   "outputs": [
    {
     "name": "stdout",
     "output_type": "stream",
     "text": [
      "📊 Evaluating on test set...\n"
     ]
    }
   ],
   "execution_count": 8
  }
 ],
 "metadata": {
  "kernelspec": {
   "display_name": "Python 3.9 (thesis-toxic)",
   "language": "python",
   "name": "thesis-toxic"
  },
  "language_info": {
   "codemirror_mode": {
    "name": "ipython",
    "version": 2
   },
   "file_extension": ".py",
   "mimetype": "text/x-python",
   "name": "python",
   "nbconvert_exporter": "python",
   "pygments_lexer": "ipython2",
   "version": "2.7.6"
  }
 },
 "nbformat": 4,
 "nbformat_minor": 5
}
