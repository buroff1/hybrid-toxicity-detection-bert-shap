{
 "cells": [
  {
   "cell_type": "code",
   "id": "initial_id",
   "metadata": {
    "collapsed": true,
    "ExecuteTime": {
     "end_time": "2025-07-08T10:02:03.018226Z",
     "start_time": "2025-07-08T10:01:50.480418Z"
    }
   },
   "source": [
    "import torch\n",
    "import pandas as pd\n",
    "from transformers import BertTokenizerFast, BertForSequenceClassification, BertForTokenClassification\n",
    "from sklearn.metrics import classification_report, confusion_matrix, f1_score\n",
    "from tqdm.auto import tqdm\n",
    "import matplotlib.pyplot as plt\n",
    "import seaborn as sns\n",
    "import ast\n",
    "import os\n",
    "\n",
    "device = torch.device(\"cuda\" if torch.cuda.is_available() else \"cpu\")\n",
    "os.makedirs(\"../outputs/comparison\", exist_ok=True)\n",
    "print(\"Using device:\", device)\n"
   ],
   "outputs": [
    {
     "name": "stdout",
     "output_type": "stream",
     "text": [
      "📦 Using device: cuda\n"
     ]
    }
   ],
   "execution_count": 1
  },
  {
   "metadata": {
    "ExecuteTime": {
     "end_time": "2025-07-08T10:02:10.538190Z",
     "start_time": "2025-07-08T10:02:03.018226Z"
    }
   },
   "cell_type": "code",
   "source": [
    "# Load tokenizer and both fine-tuned models (comment-level and token-level)\n",
    "tokenizer = BertTokenizerFast.from_pretrained(\"bert-base-cased\")\n",
    "\n",
    "model_a = BertForSequenceClassification.from_pretrained(\"bert-base-cased\", num_labels=2)\n",
    "model_a.load_state_dict(torch.load(\"../outputs/model/bert_toxic_classifier.pt\", map_location=device))\n",
    "model_a.to(device).eval()\n",
    "\n",
    "model_b = BertForTokenClassification.from_pretrained(\"bert-base-cased\", num_labels=2)\n",
    "model_b.load_state_dict(torch.load(\"../outputs/model/bert_token_classifier.pt\", map_location=device))\n",
    "model_b.to(device).eval()\n"
   ],
   "id": "ef15b9d0bf2803f1",
   "outputs": [
    {
     "name": "stderr",
     "output_type": "stream",
     "text": [
      "D:\\New_Desktop\\all stuff\\ue\\thesis-toxic\\.venv\\lib\\site-packages\\huggingface_hub\\file_download.py:943: FutureWarning: `resume_download` is deprecated and will be removed in version 1.0.0. Downloads always resume when possible. If you want to force a new download, use `force_download=True`.\n",
      "  warnings.warn(\n",
      "Some weights of BertForSequenceClassification were not initialized from the model checkpoint at bert-base-cased and are newly initialized: ['classifier.bias', 'classifier.weight']\n",
      "You should probably TRAIN this model on a down-stream task to be able to use it for predictions and inference.\n",
      "Some weights of BertForTokenClassification were not initialized from the model checkpoint at bert-base-cased and are newly initialized: ['classifier.bias', 'classifier.weight']\n",
      "You should probably TRAIN this model on a down-stream task to be able to use it for predictions and inference.\n"
     ]
    },
    {
     "data": {
      "text/plain": [
       "BertForTokenClassification(\n",
       "  (bert): BertModel(\n",
       "    (embeddings): BertEmbeddings(\n",
       "      (word_embeddings): Embedding(28996, 768, padding_idx=0)\n",
       "      (position_embeddings): Embedding(512, 768)\n",
       "      (token_type_embeddings): Embedding(2, 768)\n",
       "      (LayerNorm): LayerNorm((768,), eps=1e-12, elementwise_affine=True)\n",
       "      (dropout): Dropout(p=0.1, inplace=False)\n",
       "    )\n",
       "    (encoder): BertEncoder(\n",
       "      (layer): ModuleList(\n",
       "        (0-11): 12 x BertLayer(\n",
       "          (attention): BertAttention(\n",
       "            (self): BertSelfAttention(\n",
       "              (query): Linear(in_features=768, out_features=768, bias=True)\n",
       "              (key): Linear(in_features=768, out_features=768, bias=True)\n",
       "              (value): Linear(in_features=768, out_features=768, bias=True)\n",
       "              (dropout): Dropout(p=0.1, inplace=False)\n",
       "            )\n",
       "            (output): BertSelfOutput(\n",
       "              (dense): Linear(in_features=768, out_features=768, bias=True)\n",
       "              (LayerNorm): LayerNorm((768,), eps=1e-12, elementwise_affine=True)\n",
       "              (dropout): Dropout(p=0.1, inplace=False)\n",
       "            )\n",
       "          )\n",
       "          (intermediate): BertIntermediate(\n",
       "            (dense): Linear(in_features=768, out_features=3072, bias=True)\n",
       "            (intermediate_act_fn): GELUActivation()\n",
       "          )\n",
       "          (output): BertOutput(\n",
       "            (dense): Linear(in_features=3072, out_features=768, bias=True)\n",
       "            (LayerNorm): LayerNorm((768,), eps=1e-12, elementwise_affine=True)\n",
       "            (dropout): Dropout(p=0.1, inplace=False)\n",
       "          )\n",
       "        )\n",
       "      )\n",
       "    )\n",
       "  )\n",
       "  (dropout): Dropout(p=0.1, inplace=False)\n",
       "  (classifier): Linear(in_features=768, out_features=2, bias=True)\n",
       ")"
      ]
     },
     "execution_count": 2,
     "metadata": {},
     "output_type": "execute_result"
    }
   ],
   "execution_count": 2
  },
  {
   "metadata": {
    "ExecuteTime": {
     "end_time": "2025-07-08T10:02:10.965952Z",
     "start_time": "2025-07-08T10:02:10.539220Z"
    }
   },
   "cell_type": "code",
   "source": [
    "# Load Toxic Spans and clean empty rows\n",
    "df = pd.read_csv(\"../data/toxic_spans.csv\")\n",
    "df[\"position\"] = df[\"position\"].apply(ast.literal_eval)\n",
    "df[\"text_of_post\"] = df[\"text_of_post\"].astype(str).apply(lambda x: x.strip())\n",
    "df = df[df[\"text_of_post\"] != \"\"].reset_index(drop=True)\n",
    "\n",
    "print(f\"Evaluating on full dataset: {len(df)} samples\")\n"
   ],
   "id": "1def959fee3c798",
   "outputs": [
    {
     "name": "stdout",
     "output_type": "stream",
     "text": [
      "📊 Evaluating on full dataset: 11006 samples\n"
     ]
    }
   ],
   "execution_count": 3
  },
  {
   "metadata": {
    "ExecuteTime": {
     "end_time": "2025-07-08T10:03:39.119056Z",
     "start_time": "2025-07-08T10:02:10.965952Z"
    }
   },
   "cell_type": "code",
   "source": [
    "# Model A: comment-level classification on Toxic Spans\n",
    "# Create binary label per comment: toxic if any gold span exists\n",
    "labels = []\n",
    "predictions = []\n",
    "\n",
    "for _, row in tqdm(df.iterrows(), total=len(df)):\n",
    "    text = row[\"text_of_post\"]\n",
    "    label = int(len(row[\"position\"]) > 0)\n",
    "\n",
    "    enc = tokenizer(text, return_tensors=\"pt\", truncation=True, padding=True, max_length=128)\n",
    "    enc = {k: v.to(device) for k, v in enc.items()}\n",
    "\n",
    "    with torch.no_grad():\n",
    "        outputs = model_a(**enc)\n",
    "        pred = torch.argmax(outputs.logits, dim=1).item()\n",
    "\n",
    "    labels.append(label)\n",
    "    predictions.append(pred)\n",
    "\n",
    "# Save per-sample predictions for Model A\n",
    "df_model_a = pd.DataFrame({\n",
    "    \"index\": df.index,\n",
    "    \"text\": df[\"text_of_post\"],\n",
    "    \"true_label\": labels,\n",
    "    \"predicted_label\": predictions,\n",
    "    \"model\": \"BERT-sequence\"\n",
    "})\n",
    "df_model_a.to_csv(\"../outputs/comparison/model_a_classification.csv\", index=False)\n",
    "print(\"Saved: model_a_classification.csv\")\n",
    "\n",
    "# Print standard classification report\n",
    "print(\"Model A — Comment-level Classification\")\n",
    "print(classification_report(labels, predictions, target_names=[\"non-toxic\", \"toxic\"]))\n"
   ],
   "id": "cb94db89204b6ebb",
   "outputs": [
    {
     "data": {
      "text/plain": [
       "  0%|          | 0/11006 [00:00<?, ?it/s]"
      ],
      "application/vnd.jupyter.widget-view+json": {
       "version_major": 2,
       "version_minor": 0,
       "model_id": "f0bdf6bb975d47ecaba487a100500590"
      }
     },
     "metadata": {},
     "output_type": "display_data"
    },
    {
     "name": "stdout",
     "output_type": "stream",
     "text": [
      "✅ Saved: model_a_classification.csv\n",
      "📊 Model A — Comment-level Classification\n",
      "              precision    recall  f1-score   support\n",
      "\n",
      "   non-toxic       0.75      0.24      0.36      5364\n",
      "       toxic       0.56      0.92      0.70      5642\n",
      "\n",
      "    accuracy                           0.59     11006\n",
      "   macro avg       0.65      0.58      0.53     11006\n",
      "weighted avg       0.65      0.59      0.53     11006\n",
      "\n"
     ]
    }
   ],
   "execution_count": 4
  },
  {
   "metadata": {
    "ExecuteTime": {
     "end_time": "2025-07-08T10:05:02.700057Z",
     "start_time": "2025-07-08T10:03:39.120017Z"
    }
   },
   "cell_type": "code",
   "source": [
    "# Model B: token-level span detection scored at character level\n",
    "threshold = 0.5\n",
    "span_metrics = []\n",
    "\n",
    "for _, row in tqdm(df.iterrows(), total=len(df)):\n",
    "    text = row[\"text_of_post\"]\n",
    "    true_spans = set(row[\"position\"]) # gold characters\n",
    "\n",
    "    # Get token offsets to project token predictions back to character indices\n",
    "    enc = tokenizer(text, return_tensors=\"pt\", truncation=True, padding=True, max_length=128, return_offsets_mapping=True)\n",
    "    offset_mapping = enc.pop(\"offset_mapping\")[0]\n",
    "    enc = {k: v.to(device) for k, v in enc.items()}\n",
    "\n",
    "    with torch.no_grad():\n",
    "        outputs = model_b(**enc)\n",
    "        probs = torch.nn.functional.softmax(outputs.logits, dim=-1)\n",
    "        preds = torch.argmax(probs, dim=-1).squeeze().cpu().tolist()\n",
    "\n",
    "    # Collect predicted character indices from tokens labeled as toxic\n",
    "    predicted_spans = set()\n",
    "    for j, (start, end) in enumerate(offset_mapping):\n",
    "        if j < len(preds) and preds[j] == 1 and start != end:\n",
    "            predicted_spans.update(range(start, end))\n",
    "\n",
    "    # Character-level precision/recall/F1 for this sample\n",
    "    tp = len(predicted_spans & true_spans)\n",
    "    fp = len(predicted_spans - true_spans)\n",
    "    fn = len(true_spans - predicted_spans)\n",
    "\n",
    "    precision = tp / (tp + fp + 1e-6)\n",
    "    recall = tp / (tp + fn + 1e-6)\n",
    "    f1 = 2 * precision * recall / (precision + recall + 1e-6)\n",
    "\n",
    "    span_metrics.append((precision, recall, f1))\n",
    "\n",
    "# Save per-sample span metrics for Model B\n",
    "span_df = pd.DataFrame(span_metrics, columns=[\"precision\", \"recall\", \"f1\"])\n",
    "span_df[\"index\"] = df.index\n",
    "span_df[\"text\"] = df[\"text_of_post\"]\n",
    "span_df[\"model\"] = \"BERT-token\"\n",
    "span_df.to_csv(\"../outputs/comparison/model_b_span_metrics.csv\", index=False)\n",
    "print(\"Saved: model_b_span_metrics.csv\")\n",
    "\n",
    "# Save average stats separately\n",
    "summary_stats = span_df[[\"precision\", \"recall\", \"f1\"]].describe()\n",
    "summary_stats.to_csv(\"../outputs/comparison/model_b_stats.csv\")\n",
    "print(\"Saved: model_b_stats.csv\")\n",
    "\n",
    "print(\"Model B — Token-Level Span Detection (Average)\")\n",
    "print(summary_stats)\n"
   ],
   "id": "64432dcba082b669",
   "outputs": [
    {
     "data": {
      "text/plain": [
       "  0%|          | 0/11006 [00:00<?, ?it/s]"
      ],
      "application/vnd.jupyter.widget-view+json": {
       "version_major": 2,
       "version_minor": 0,
       "model_id": "3e2123fc6b8640ddb76fbb8d2319302d"
      }
     },
     "metadata": {},
     "output_type": "display_data"
    },
    {
     "name": "stdout",
     "output_type": "stream",
     "text": [
      "✅ Saved: model_b_span_metrics.csv\n",
      "✅ Saved: model_b_stats.csv\n",
      "📊 Model B — Token-Level Span Detection (Average)\n",
      "          precision        recall            f1\n",
      "count  11006.000000  11006.000000  11006.000000\n",
      "mean       0.429790      0.420764      0.418691\n",
      "std        0.487568      0.482546      0.477664\n",
      "min        0.000000      0.000000      0.000000\n",
      "25%        0.000000      0.000000      0.000000\n",
      "50%        0.000000      0.000000      0.000000\n",
      "75%        1.000000      1.000000      0.999999\n",
      "max        1.000000      1.000000      0.999999\n"
     ]
    }
   ],
   "execution_count": 5
  },
  {
   "metadata": {
    "ExecuteTime": {
     "end_time": "2025-07-08T10:05:03.089707Z",
     "start_time": "2025-07-08T10:05:02.701058Z"
    }
   },
   "cell_type": "code",
   "source": [
    "# Confusion matrix for Model A (comment-level)\n",
    "cm = confusion_matrix(labels, predictions)\n",
    "plt.figure(figsize=(6, 5))\n",
    "sns.heatmap(cm, annot=True, fmt=\"d\", cmap=\"Blues\", xticklabels=[\"non-toxic\", \"toxic\"], yticklabels=[\"non-toxic\", \"toxic\"])\n",
    "plt.title(\"Confusion Matrix — Model A\")\n",
    "plt.xlabel(\"Predicted\")\n",
    "plt.ylabel(\"True\")\n",
    "plt.tight_layout()\n",
    "plt.savefig(\"../outputs/comparison/confusion_matrix_model_a.png\")\n",
    "plt.show()\n",
    "print(\"Saved: confusion_matrix_model_a.png\")\n"
   ],
   "id": "9be9661e4620e190",
   "outputs": [
    {
     "data": {
      "text/plain": [
       "<Figure size 600x500 with 2 Axes>"
      ],
      "image/png": "[encoded data removed]"
     },
     "metadata": {},
     "output_type": "display_data"
    },
    {
     "name": "stdout",
     "output_type": "stream",
     "text": [
      "✅ Saved: confusion_matrix_model_a.png\n"
     ]
    }
   ],
   "execution_count": 6
  },
  {
   "metadata": {
    "ExecuteTime": {
     "end_time": "2025-07-08T10:05:03.209092Z",
     "start_time": "2025-07-08T10:05:03.090789Z"
    }
   },
   "cell_type": "code",
   "source": [
    "# F1 comparison plot (comment-level vs per-sample span F1 average)\n",
    "f1_a = f1_score(labels, predictions)\n",
    "f1_b = span_df[\"f1\"].mean()\n",
    "\n",
    "plt.figure(figsize=(6, 4))\n",
    "bars = plt.bar([\"Model A (comment)\", \"Model B (token)\"], [f1_a, f1_b], color=[\"steelblue\", \"darkorange\"])\n",
    "plt.title(\"F1 Score Comparison\")\n",
    "plt.ylabel(\"F1 Score\")\n",
    "plt.ylim(0, 1)\n",
    "\n",
    "for bar in bars:\n",
    "    yval = bar.get_height()\n",
    "    plt.text(bar.get_x() + bar.get_width()/2, yval + 0.02, f\"{yval:.2f}\", ha=\"center\", fontsize=11)\n",
    "\n",
    "plt.tight_layout()\n",
    "plt.savefig(\"../outputs/comparison/f1_score_comparison.png\")\n",
    "plt.show()\n",
    "print(\"Saved: f1_score_comparison.png\")"
   ],
   "id": "b5d2f5418dfc8a9a",
   "outputs": [
    {
     "data": {
      "text/plain": [
       "<Figure size 600x400 with 1 Axes>"
      ],
      "image/png": "[encoded data removed]"
     },
     "metadata": {},
     "output_type": "display_data"
    },
    {
     "name": "stdout",
     "output_type": "stream",
     "text": [
      "✅ Saved: f1_score_comparison.png\n"
     ]
    }
   ],
   "execution_count": 7
  }
 ],
 "metadata": {
  "kernelspec": {
   "display_name": "Python 3.9 (thesis-toxic)",
   "language": "python",
   "name": "thesis-toxic"
  },
  "language_info": {
   "codemirror_mode": {
    "name": "ipython",
    "version": 2
   },
   "file_extension": ".py",
   "mimetype": "text/x-python",
   "name": "python",
   "nbconvert_exporter": "python",
   "pygments_lexer": "ipython2",
   "version": "2.7.6"
  }
 },
 "nbformat": 4,
 "nbformat_minor": 5
}
